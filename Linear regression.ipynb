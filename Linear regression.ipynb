{
 "cells": [
  {
   "cell_type": "code",
   "execution_count": 57,
   "id": "e9cf955e",
   "metadata": {},
   "outputs": [],
   "source": [
    "import pandas as pd"
   ]
  },
  {
   "cell_type": "code",
   "execution_count": 3,
   "id": "c1d6afa6",
   "metadata": {},
   "outputs": [],
   "source": [
    "data=pd.read_csv('F:/Data science - digital tainee/Data sets/honeyproduction.csv')"
   ]
  },
  {
   "cell_type": "code",
   "execution_count": 4,
   "id": "103895cc",
   "metadata": {},
   "outputs": [
    {
     "data": {
      "text/html": [
       "<div>\n",
       "<style scoped>\n",
       "    .dataframe tbody tr th:only-of-type {\n",
       "        vertical-align: middle;\n",
       "    }\n",
       "\n",
       "    .dataframe tbody tr th {\n",
       "        vertical-align: top;\n",
       "    }\n",
       "\n",
       "    .dataframe thead th {\n",
       "        text-align: right;\n",
       "    }\n",
       "</style>\n",
       "<table border=\"1\" class=\"dataframe\">\n",
       "  <thead>\n",
       "    <tr style=\"text-align: right;\">\n",
       "      <th></th>\n",
       "      <th>state</th>\n",
       "      <th>numcol</th>\n",
       "      <th>yieldpercol</th>\n",
       "      <th>totalprod</th>\n",
       "      <th>stocks</th>\n",
       "      <th>priceperlb</th>\n",
       "      <th>prodvalue</th>\n",
       "      <th>year</th>\n",
       "    </tr>\n",
       "  </thead>\n",
       "  <tbody>\n",
       "    <tr>\n",
       "      <th>0</th>\n",
       "      <td>AL</td>\n",
       "      <td>16000.0</td>\n",
       "      <td>71</td>\n",
       "      <td>1136000.0</td>\n",
       "      <td>159000.0</td>\n",
       "      <td>0.72</td>\n",
       "      <td>818000.0</td>\n",
       "      <td>1998</td>\n",
       "    </tr>\n",
       "    <tr>\n",
       "      <th>1</th>\n",
       "      <td>AZ</td>\n",
       "      <td>55000.0</td>\n",
       "      <td>60</td>\n",
       "      <td>3300000.0</td>\n",
       "      <td>1485000.0</td>\n",
       "      <td>0.64</td>\n",
       "      <td>2112000.0</td>\n",
       "      <td>1998</td>\n",
       "    </tr>\n",
       "    <tr>\n",
       "      <th>2</th>\n",
       "      <td>AR</td>\n",
       "      <td>53000.0</td>\n",
       "      <td>65</td>\n",
       "      <td>3445000.0</td>\n",
       "      <td>1688000.0</td>\n",
       "      <td>0.59</td>\n",
       "      <td>2033000.0</td>\n",
       "      <td>1998</td>\n",
       "    </tr>\n",
       "    <tr>\n",
       "      <th>3</th>\n",
       "      <td>CA</td>\n",
       "      <td>450000.0</td>\n",
       "      <td>83</td>\n",
       "      <td>37350000.0</td>\n",
       "      <td>12326000.0</td>\n",
       "      <td>0.62</td>\n",
       "      <td>23157000.0</td>\n",
       "      <td>1998</td>\n",
       "    </tr>\n",
       "    <tr>\n",
       "      <th>4</th>\n",
       "      <td>CO</td>\n",
       "      <td>27000.0</td>\n",
       "      <td>72</td>\n",
       "      <td>1944000.0</td>\n",
       "      <td>1594000.0</td>\n",
       "      <td>0.70</td>\n",
       "      <td>1361000.0</td>\n",
       "      <td>1998</td>\n",
       "    </tr>\n",
       "  </tbody>\n",
       "</table>\n",
       "</div>"
      ],
      "text/plain": [
       "  state    numcol  yieldpercol   totalprod      stocks  priceperlb  \\\n",
       "0    AL   16000.0           71   1136000.0    159000.0        0.72   \n",
       "1    AZ   55000.0           60   3300000.0   1485000.0        0.64   \n",
       "2    AR   53000.0           65   3445000.0   1688000.0        0.59   \n",
       "3    CA  450000.0           83  37350000.0  12326000.0        0.62   \n",
       "4    CO   27000.0           72   1944000.0   1594000.0        0.70   \n",
       "\n",
       "    prodvalue  year  \n",
       "0    818000.0  1998  \n",
       "1   2112000.0  1998  \n",
       "2   2033000.0  1998  \n",
       "3  23157000.0  1998  \n",
       "4   1361000.0  1998  "
      ]
     },
     "execution_count": 4,
     "metadata": {},
     "output_type": "execute_result"
    }
   ],
   "source": [
    "data.head()"
   ]
  },
  {
   "cell_type": "code",
   "execution_count": 8,
   "id": "a0db2456",
   "metadata": {},
   "outputs": [
    {
     "data": {
      "text/plain": [
       "(626, 8)"
      ]
     },
     "execution_count": 8,
     "metadata": {},
     "output_type": "execute_result"
    }
   ],
   "source": [
    "data.shape"
   ]
  },
  {
   "cell_type": "code",
   "execution_count": 9,
   "id": "d8340e64",
   "metadata": {},
   "outputs": [
    {
     "data": {
      "text/html": [
       "<div>\n",
       "<style scoped>\n",
       "    .dataframe tbody tr th:only-of-type {\n",
       "        vertical-align: middle;\n",
       "    }\n",
       "\n",
       "    .dataframe tbody tr th {\n",
       "        vertical-align: top;\n",
       "    }\n",
       "\n",
       "    .dataframe thead th {\n",
       "        text-align: right;\n",
       "    }\n",
       "</style>\n",
       "<table border=\"1\" class=\"dataframe\">\n",
       "  <thead>\n",
       "    <tr style=\"text-align: right;\">\n",
       "      <th></th>\n",
       "      <th>numcol</th>\n",
       "      <th>yieldpercol</th>\n",
       "      <th>totalprod</th>\n",
       "      <th>stocks</th>\n",
       "      <th>priceperlb</th>\n",
       "      <th>prodvalue</th>\n",
       "      <th>year</th>\n",
       "    </tr>\n",
       "  </thead>\n",
       "  <tbody>\n",
       "    <tr>\n",
       "      <th>count</th>\n",
       "      <td>626.000000</td>\n",
       "      <td>626.000000</td>\n",
       "      <td>6.260000e+02</td>\n",
       "      <td>6.260000e+02</td>\n",
       "      <td>626.000000</td>\n",
       "      <td>6.260000e+02</td>\n",
       "      <td>626.000000</td>\n",
       "    </tr>\n",
       "    <tr>\n",
       "      <th>mean</th>\n",
       "      <td>60284.345048</td>\n",
       "      <td>62.009585</td>\n",
       "      <td>4.169086e+06</td>\n",
       "      <td>1.318859e+06</td>\n",
       "      <td>1.409569</td>\n",
       "      <td>4.715741e+06</td>\n",
       "      <td>2004.864217</td>\n",
       "    </tr>\n",
       "    <tr>\n",
       "      <th>std</th>\n",
       "      <td>91077.087231</td>\n",
       "      <td>19.458754</td>\n",
       "      <td>6.883847e+06</td>\n",
       "      <td>2.272964e+06</td>\n",
       "      <td>0.638599</td>\n",
       "      <td>7.976110e+06</td>\n",
       "      <td>4.317306</td>\n",
       "    </tr>\n",
       "    <tr>\n",
       "      <th>min</th>\n",
       "      <td>2000.000000</td>\n",
       "      <td>19.000000</td>\n",
       "      <td>8.400000e+04</td>\n",
       "      <td>8.000000e+03</td>\n",
       "      <td>0.490000</td>\n",
       "      <td>1.620000e+05</td>\n",
       "      <td>1998.000000</td>\n",
       "    </tr>\n",
       "    <tr>\n",
       "      <th>25%</th>\n",
       "      <td>9000.000000</td>\n",
       "      <td>48.000000</td>\n",
       "      <td>4.750000e+05</td>\n",
       "      <td>1.430000e+05</td>\n",
       "      <td>0.932500</td>\n",
       "      <td>7.592500e+05</td>\n",
       "      <td>2001.000000</td>\n",
       "    </tr>\n",
       "    <tr>\n",
       "      <th>50%</th>\n",
       "      <td>26000.000000</td>\n",
       "      <td>60.000000</td>\n",
       "      <td>1.533000e+06</td>\n",
       "      <td>4.395000e+05</td>\n",
       "      <td>1.360000</td>\n",
       "      <td>1.841500e+06</td>\n",
       "      <td>2005.000000</td>\n",
       "    </tr>\n",
       "    <tr>\n",
       "      <th>75%</th>\n",
       "      <td>63750.000000</td>\n",
       "      <td>74.000000</td>\n",
       "      <td>4.175250e+06</td>\n",
       "      <td>1.489500e+06</td>\n",
       "      <td>1.680000</td>\n",
       "      <td>4.703250e+06</td>\n",
       "      <td>2009.000000</td>\n",
       "    </tr>\n",
       "    <tr>\n",
       "      <th>max</th>\n",
       "      <td>510000.000000</td>\n",
       "      <td>136.000000</td>\n",
       "      <td>4.641000e+07</td>\n",
       "      <td>1.380000e+07</td>\n",
       "      <td>4.150000</td>\n",
       "      <td>6.961500e+07</td>\n",
       "      <td>2012.000000</td>\n",
       "    </tr>\n",
       "  </tbody>\n",
       "</table>\n",
       "</div>"
      ],
      "text/plain": [
       "              numcol  yieldpercol     totalprod        stocks  priceperlb  \\\n",
       "count     626.000000   626.000000  6.260000e+02  6.260000e+02  626.000000   \n",
       "mean    60284.345048    62.009585  4.169086e+06  1.318859e+06    1.409569   \n",
       "std     91077.087231    19.458754  6.883847e+06  2.272964e+06    0.638599   \n",
       "min      2000.000000    19.000000  8.400000e+04  8.000000e+03    0.490000   \n",
       "25%      9000.000000    48.000000  4.750000e+05  1.430000e+05    0.932500   \n",
       "50%     26000.000000    60.000000  1.533000e+06  4.395000e+05    1.360000   \n",
       "75%     63750.000000    74.000000  4.175250e+06  1.489500e+06    1.680000   \n",
       "max    510000.000000   136.000000  4.641000e+07  1.380000e+07    4.150000   \n",
       "\n",
       "          prodvalue         year  \n",
       "count  6.260000e+02   626.000000  \n",
       "mean   4.715741e+06  2004.864217  \n",
       "std    7.976110e+06     4.317306  \n",
       "min    1.620000e+05  1998.000000  \n",
       "25%    7.592500e+05  2001.000000  \n",
       "50%    1.841500e+06  2005.000000  \n",
       "75%    4.703250e+06  2009.000000  \n",
       "max    6.961500e+07  2012.000000  "
      ]
     },
     "execution_count": 9,
     "metadata": {},
     "output_type": "execute_result"
    }
   ],
   "source": [
    "data.describe()"
   ]
  },
  {
   "cell_type": "code",
   "execution_count": 14,
   "id": "7ad1ec81",
   "metadata": {},
   "outputs": [
    {
     "name": "stdout",
     "output_type": "stream",
     "text": [
      "data is in between 1998 and 2012\n"
     ]
    }
   ],
   "source": [
    "print(\"data is in between\",data['year'].min(),\"and\",data['year'].max())"
   ]
  },
  {
   "cell_type": "code",
   "execution_count": 22,
   "id": "8c258a7a",
   "metadata": {},
   "outputs": [
    {
     "name": "stdout",
     "output_type": "stream",
     "text": [
      "there are 44 unique states present in data\n"
     ]
    }
   ],
   "source": [
    "print(\"there are\",len(data['state'].unique()),\"unique states present in data\")"
   ]
  },
  {
   "cell_type": "code",
   "execution_count": 24,
   "id": "124edf08",
   "metadata": {},
   "outputs": [],
   "source": [
    "import matplotlib.pyplot as plt"
   ]
  },
  {
   "cell_type": "code",
   "execution_count": 25,
   "id": "7cc5b016",
   "metadata": {},
   "outputs": [
    {
     "data": {
      "text/html": [
       "<div>\n",
       "<style scoped>\n",
       "    .dataframe tbody tr th:only-of-type {\n",
       "        vertical-align: middle;\n",
       "    }\n",
       "\n",
       "    .dataframe tbody tr th {\n",
       "        vertical-align: top;\n",
       "    }\n",
       "\n",
       "    .dataframe thead th {\n",
       "        text-align: right;\n",
       "    }\n",
       "</style>\n",
       "<table border=\"1\" class=\"dataframe\">\n",
       "  <thead>\n",
       "    <tr style=\"text-align: right;\">\n",
       "      <th></th>\n",
       "      <th>state</th>\n",
       "      <th>numcol</th>\n",
       "      <th>yieldpercol</th>\n",
       "      <th>totalprod</th>\n",
       "      <th>stocks</th>\n",
       "      <th>priceperlb</th>\n",
       "      <th>prodvalue</th>\n",
       "      <th>year</th>\n",
       "    </tr>\n",
       "  </thead>\n",
       "  <tbody>\n",
       "    <tr>\n",
       "      <th>0</th>\n",
       "      <td>AL</td>\n",
       "      <td>16000.0</td>\n",
       "      <td>71</td>\n",
       "      <td>1136000.0</td>\n",
       "      <td>159000.0</td>\n",
       "      <td>0.72</td>\n",
       "      <td>818000.0</td>\n",
       "      <td>1998</td>\n",
       "    </tr>\n",
       "    <tr>\n",
       "      <th>1</th>\n",
       "      <td>AZ</td>\n",
       "      <td>55000.0</td>\n",
       "      <td>60</td>\n",
       "      <td>3300000.0</td>\n",
       "      <td>1485000.0</td>\n",
       "      <td>0.64</td>\n",
       "      <td>2112000.0</td>\n",
       "      <td>1998</td>\n",
       "    </tr>\n",
       "    <tr>\n",
       "      <th>2</th>\n",
       "      <td>AR</td>\n",
       "      <td>53000.0</td>\n",
       "      <td>65</td>\n",
       "      <td>3445000.0</td>\n",
       "      <td>1688000.0</td>\n",
       "      <td>0.59</td>\n",
       "      <td>2033000.0</td>\n",
       "      <td>1998</td>\n",
       "    </tr>\n",
       "    <tr>\n",
       "      <th>3</th>\n",
       "      <td>CA</td>\n",
       "      <td>450000.0</td>\n",
       "      <td>83</td>\n",
       "      <td>37350000.0</td>\n",
       "      <td>12326000.0</td>\n",
       "      <td>0.62</td>\n",
       "      <td>23157000.0</td>\n",
       "      <td>1998</td>\n",
       "    </tr>\n",
       "    <tr>\n",
       "      <th>4</th>\n",
       "      <td>CO</td>\n",
       "      <td>27000.0</td>\n",
       "      <td>72</td>\n",
       "      <td>1944000.0</td>\n",
       "      <td>1594000.0</td>\n",
       "      <td>0.70</td>\n",
       "      <td>1361000.0</td>\n",
       "      <td>1998</td>\n",
       "    </tr>\n",
       "  </tbody>\n",
       "</table>\n",
       "</div>"
      ],
      "text/plain": [
       "  state    numcol  yieldpercol   totalprod      stocks  priceperlb  \\\n",
       "0    AL   16000.0           71   1136000.0    159000.0        0.72   \n",
       "1    AZ   55000.0           60   3300000.0   1485000.0        0.64   \n",
       "2    AR   53000.0           65   3445000.0   1688000.0        0.59   \n",
       "3    CA  450000.0           83  37350000.0  12326000.0        0.62   \n",
       "4    CO   27000.0           72   1944000.0   1594000.0        0.70   \n",
       "\n",
       "    prodvalue  year  \n",
       "0    818000.0  1998  \n",
       "1   2112000.0  1998  \n",
       "2   2033000.0  1998  \n",
       "3  23157000.0  1998  \n",
       "4   1361000.0  1998  "
      ]
     },
     "execution_count": 25,
     "metadata": {},
     "output_type": "execute_result"
    }
   ],
   "source": [
    "data.head()"
   ]
  },
  {
   "cell_type": "code",
   "execution_count": 27,
   "id": "4f81018d",
   "metadata": {},
   "outputs": [
    {
     "data": {
      "text/plain": [
       "Index(['state', 'numcol', 'yieldpercol', 'totalprod', 'stocks', 'priceperlb',\n",
       "       'prodvalue', 'year'],\n",
       "      dtype='object')"
      ]
     },
     "execution_count": 27,
     "metadata": {},
     "output_type": "execute_result"
    }
   ],
   "source": [
    "data.columns"
   ]
  },
  {
   "cell_type": "code",
   "execution_count": 33,
   "id": "c8dbb15d",
   "metadata": {},
   "outputs": [
    {
     "data": {
      "text/plain": [
       "[<matplotlib.lines.Line2D at 0x1f7051f4b20>]"
      ]
     },
     "execution_count": 33,
     "metadata": {},
     "output_type": "execute_result"
    },
    {
     "data": {
      "image/png": "[encoded data removed]",
      "text/plain": [
       "<Figure size 432x288 with 1 Axes>"
      ]
     },
     "metadata": {
      "needs_background": "light"
     },
     "output_type": "display_data"
    }
   ],
   "source": [
    "plt.plot(data['year'],data['totalprod'])"
   ]
  },
  {
   "cell_type": "code",
   "execution_count": 40,
   "id": "7e631832",
   "metadata": {},
   "outputs": [],
   "source": [
    "gr=data[['year','totalprod']].groupby('year').sum()"
   ]
  },
  {
   "cell_type": "code",
   "execution_count": 44,
   "id": "449a35df",
   "metadata": {},
   "outputs": [],
   "source": [
    "gr.reset_index(level=0,inplace=True)"
   ]
  },
  {
   "cell_type": "code",
   "execution_count": 49,
   "id": "90099a82",
   "metadata": {},
   "outputs": [
    {
     "data": {
      "image/png": "[encoded data removed]",
      "text/plain": [
       "<Figure size 1800x576 with 1 Axes>"
      ]
     },
     "metadata": {
      "needs_background": "light"
     },
     "output_type": "display_data"
    }
   ],
   "source": [
    "plt.figure(figsize=(25,8))\n",
    "plt.plot(gr['year'],gr['totalprod'])\n",
    "plt.xlabel('Years')\n",
    "plt.ylabel('Total production')\n",
    "plt.show()"
   ]
  },
  {
   "cell_type": "code",
   "execution_count": 51,
   "id": "40a0907b",
   "metadata": {},
   "outputs": [],
   "source": [
    "st=data[['year','stocks']].groupby('year').sum()"
   ]
  },
  {
   "cell_type": "code",
   "execution_count": 52,
   "id": "4fd97795",
   "metadata": {},
   "outputs": [
    {
     "data": {
      "text/html": [
       "<div>\n",
       "<style scoped>\n",
       "    .dataframe tbody tr th:only-of-type {\n",
       "        vertical-align: middle;\n",
       "    }\n",
       "\n",
       "    .dataframe tbody tr th {\n",
       "        vertical-align: top;\n",
       "    }\n",
       "\n",
       "    .dataframe thead th {\n",
       "        text-align: right;\n",
       "    }\n",
       "</style>\n",
       "<table border=\"1\" class=\"dataframe\">\n",
       "  <thead>\n",
       "    <tr style=\"text-align: right;\">\n",
       "      <th></th>\n",
       "      <th>stocks</th>\n",
       "    </tr>\n",
       "    <tr>\n",
       "      <th>year</th>\n",
       "      <th></th>\n",
       "    </tr>\n",
       "  </thead>\n",
       "  <tbody>\n",
       "    <tr>\n",
       "      <th>1998</th>\n",
       "      <td>80565000.0</td>\n",
       "    </tr>\n",
       "    <tr>\n",
       "      <th>1999</th>\n",
       "      <td>78390000.0</td>\n",
       "    </tr>\n",
       "    <tr>\n",
       "      <th>2000</th>\n",
       "      <td>84956000.0</td>\n",
       "    </tr>\n",
       "    <tr>\n",
       "      <th>2001</th>\n",
       "      <td>64764000.0</td>\n",
       "    </tr>\n",
       "    <tr>\n",
       "      <th>2002</th>\n",
       "      <td>39177000.0</td>\n",
       "    </tr>\n",
       "    <tr>\n",
       "      <th>2003</th>\n",
       "      <td>40619000.0</td>\n",
       "    </tr>\n",
       "    <tr>\n",
       "      <th>2004</th>\n",
       "      <td>60981000.0</td>\n",
       "    </tr>\n",
       "    <tr>\n",
       "      <th>2005</th>\n",
       "      <td>62187000.0</td>\n",
       "    </tr>\n",
       "    <tr>\n",
       "      <th>2006</th>\n",
       "      <td>60235000.0</td>\n",
       "    </tr>\n",
       "    <tr>\n",
       "      <th>2007</th>\n",
       "      <td>52405000.0</td>\n",
       "    </tr>\n",
       "    <tr>\n",
       "      <th>2008</th>\n",
       "      <td>50996000.0</td>\n",
       "    </tr>\n",
       "    <tr>\n",
       "      <th>2009</th>\n",
       "      <td>37322000.0</td>\n",
       "    </tr>\n",
       "    <tr>\n",
       "      <th>2010</th>\n",
       "      <td>44797000.0</td>\n",
       "    </tr>\n",
       "    <tr>\n",
       "      <th>2011</th>\n",
       "      <td>36550000.0</td>\n",
       "    </tr>\n",
       "    <tr>\n",
       "      <th>2012</th>\n",
       "      <td>31662000.0</td>\n",
       "    </tr>\n",
       "  </tbody>\n",
       "</table>\n",
       "</div>"
      ],
      "text/plain": [
       "          stocks\n",
       "year            \n",
       "1998  80565000.0\n",
       "1999  78390000.0\n",
       "2000  84956000.0\n",
       "2001  64764000.0\n",
       "2002  39177000.0\n",
       "2003  40619000.0\n",
       "2004  60981000.0\n",
       "2005  62187000.0\n",
       "2006  60235000.0\n",
       "2007  52405000.0\n",
       "2008  50996000.0\n",
       "2009  37322000.0\n",
       "2010  44797000.0\n",
       "2011  36550000.0\n",
       "2012  31662000.0"
      ]
     },
     "execution_count": 52,
     "metadata": {},
     "output_type": "execute_result"
    }
   ],
   "source": []
  },
  {
   "cell_type": "code",
   "execution_count": 53,
   "id": "60e89b03",
   "metadata": {},
   "outputs": [],
   "source": [
    "st.reset_index(level=0,inplace=True)"
   ]
  },
  {
   "cell_type": "code",
   "execution_count": 54,
   "id": "fb777122",
   "metadata": {},
   "outputs": [
    {
     "data": {
      "text/html": [
       "<div>\n",
       "<style scoped>\n",
       "    .dataframe tbody tr th:only-of-type {\n",
       "        vertical-align: middle;\n",
       "    }\n",
       "\n",
       "    .dataframe tbody tr th {\n",
       "        vertical-align: top;\n",
       "    }\n",
       "\n",
       "    .dataframe thead th {\n",
       "        text-align: right;\n",
       "    }\n",
       "</style>\n",
       "<table border=\"1\" class=\"dataframe\">\n",
       "  <thead>\n",
       "    <tr style=\"text-align: right;\">\n",
       "      <th></th>\n",
       "      <th>year</th>\n",
       "      <th>stocks</th>\n",
       "    </tr>\n",
       "  </thead>\n",
       "  <tbody>\n",
       "    <tr>\n",
       "      <th>0</th>\n",
       "      <td>1998</td>\n",
       "      <td>80565000.0</td>\n",
       "    </tr>\n",
       "    <tr>\n",
       "      <th>1</th>\n",
       "      <td>1999</td>\n",
       "      <td>78390000.0</td>\n",
       "    </tr>\n",
       "    <tr>\n",
       "      <th>2</th>\n",
       "      <td>2000</td>\n",
       "      <td>84956000.0</td>\n",
       "    </tr>\n",
       "    <tr>\n",
       "      <th>3</th>\n",
       "      <td>2001</td>\n",
       "      <td>64764000.0</td>\n",
       "    </tr>\n",
       "    <tr>\n",
       "      <th>4</th>\n",
       "      <td>2002</td>\n",
       "      <td>39177000.0</td>\n",
       "    </tr>\n",
       "    <tr>\n",
       "      <th>5</th>\n",
       "      <td>2003</td>\n",
       "      <td>40619000.0</td>\n",
       "    </tr>\n",
       "    <tr>\n",
       "      <th>6</th>\n",
       "      <td>2004</td>\n",
       "      <td>60981000.0</td>\n",
       "    </tr>\n",
       "    <tr>\n",
       "      <th>7</th>\n",
       "      <td>2005</td>\n",
       "      <td>62187000.0</td>\n",
       "    </tr>\n",
       "    <tr>\n",
       "      <th>8</th>\n",
       "      <td>2006</td>\n",
       "      <td>60235000.0</td>\n",
       "    </tr>\n",
       "    <tr>\n",
       "      <th>9</th>\n",
       "      <td>2007</td>\n",
       "      <td>52405000.0</td>\n",
       "    </tr>\n",
       "    <tr>\n",
       "      <th>10</th>\n",
       "      <td>2008</td>\n",
       "      <td>50996000.0</td>\n",
       "    </tr>\n",
       "    <tr>\n",
       "      <th>11</th>\n",
       "      <td>2009</td>\n",
       "      <td>37322000.0</td>\n",
       "    </tr>\n",
       "    <tr>\n",
       "      <th>12</th>\n",
       "      <td>2010</td>\n",
       "      <td>44797000.0</td>\n",
       "    </tr>\n",
       "    <tr>\n",
       "      <th>13</th>\n",
       "      <td>2011</td>\n",
       "      <td>36550000.0</td>\n",
       "    </tr>\n",
       "    <tr>\n",
       "      <th>14</th>\n",
       "      <td>2012</td>\n",
       "      <td>31662000.0</td>\n",
       "    </tr>\n",
       "  </tbody>\n",
       "</table>\n",
       "</div>"
      ],
      "text/plain": [
       "    year      stocks\n",
       "0   1998  80565000.0\n",
       "1   1999  78390000.0\n",
       "2   2000  84956000.0\n",
       "3   2001  64764000.0\n",
       "4   2002  39177000.0\n",
       "5   2003  40619000.0\n",
       "6   2004  60981000.0\n",
       "7   2005  62187000.0\n",
       "8   2006  60235000.0\n",
       "9   2007  52405000.0\n",
       "10  2008  50996000.0\n",
       "11  2009  37322000.0\n",
       "12  2010  44797000.0\n",
       "13  2011  36550000.0\n",
       "14  2012  31662000.0"
      ]
     },
     "execution_count": 54,
     "metadata": {},
     "output_type": "execute_result"
    }
   ],
   "source": [
    "st"
   ]
  },
  {
   "cell_type": "code",
   "execution_count": 55,
   "id": "2b4fd3b2",
   "metadata": {},
   "outputs": [
    {
     "data": {
      "image/png": "[encoded data removed]",
      "text/plain": [
       "<Figure size 1800x576 with 1 Axes>"
      ]
     },
     "metadata": {
      "needs_background": "light"
     },
     "output_type": "display_data"
    }
   ],
   "source": [
    "plt.figure(figsize=(25,8))\n",
    "plt.plot(st['year'],st['stocks'])\n",
    "plt.xlabel('Years')\n",
    "plt.ylabel('Stock per year')\n",
    "plt.show()"
   ]
  },
  {
   "cell_type": "markdown",
   "id": "32c02e95",
   "metadata": {},
   "source": [
    "X_train: 80% data expect totalprod,      \n",
    "X_test: 20% data expect totalprod,      \n",
    "y_train: 80% data of totalprod only,     \n",
    "y_test: 20% data of totalprod only"
   ]
  },
  {
   "cell_type": "code",
   "execution_count": 56,
   "id": "063c7de2",
   "metadata": {},
   "outputs": [
    {
     "data": {
      "text/html": [
       "<div>\n",
       "<style scoped>\n",
       "    .dataframe tbody tr th:only-of-type {\n",
       "        vertical-align: middle;\n",
       "    }\n",
       "\n",
       "    .dataframe tbody tr th {\n",
       "        vertical-align: top;\n",
       "    }\n",
       "\n",
       "    .dataframe thead th {\n",
       "        text-align: right;\n",
       "    }\n",
       "</style>\n",
       "<table border=\"1\" class=\"dataframe\">\n",
       "  <thead>\n",
       "    <tr style=\"text-align: right;\">\n",
       "      <th></th>\n",
       "      <th>state</th>\n",
       "      <th>numcol</th>\n",
       "      <th>yieldpercol</th>\n",
       "      <th>totalprod</th>\n",
       "      <th>stocks</th>\n",
       "      <th>priceperlb</th>\n",
       "      <th>prodvalue</th>\n",
       "      <th>year</th>\n",
       "    </tr>\n",
       "  </thead>\n",
       "  <tbody>\n",
       "    <tr>\n",
       "      <th>0</th>\n",
       "      <td>AL</td>\n",
       "      <td>16000.0</td>\n",
       "      <td>71</td>\n",
       "      <td>1136000.0</td>\n",
       "      <td>159000.0</td>\n",
       "      <td>0.72</td>\n",
       "      <td>818000.0</td>\n",
       "      <td>1998</td>\n",
       "    </tr>\n",
       "    <tr>\n",
       "      <th>1</th>\n",
       "      <td>AZ</td>\n",
       "      <td>55000.0</td>\n",
       "      <td>60</td>\n",
       "      <td>3300000.0</td>\n",
       "      <td>1485000.0</td>\n",
       "      <td>0.64</td>\n",
       "      <td>2112000.0</td>\n",
       "      <td>1998</td>\n",
       "    </tr>\n",
       "    <tr>\n",
       "      <th>2</th>\n",
       "      <td>AR</td>\n",
       "      <td>53000.0</td>\n",
       "      <td>65</td>\n",
       "      <td>3445000.0</td>\n",
       "      <td>1688000.0</td>\n",
       "      <td>0.59</td>\n",
       "      <td>2033000.0</td>\n",
       "      <td>1998</td>\n",
       "    </tr>\n",
       "    <tr>\n",
       "      <th>3</th>\n",
       "      <td>CA</td>\n",
       "      <td>450000.0</td>\n",
       "      <td>83</td>\n",
       "      <td>37350000.0</td>\n",
       "      <td>12326000.0</td>\n",
       "      <td>0.62</td>\n",
       "      <td>23157000.0</td>\n",
       "      <td>1998</td>\n",
       "    </tr>\n",
       "    <tr>\n",
       "      <th>4</th>\n",
       "      <td>CO</td>\n",
       "      <td>27000.0</td>\n",
       "      <td>72</td>\n",
       "      <td>1944000.0</td>\n",
       "      <td>1594000.0</td>\n",
       "      <td>0.70</td>\n",
       "      <td>1361000.0</td>\n",
       "      <td>1998</td>\n",
       "    </tr>\n",
       "  </tbody>\n",
       "</table>\n",
       "</div>"
      ],
      "text/plain": [
       "  state    numcol  yieldpercol   totalprod      stocks  priceperlb  \\\n",
       "0    AL   16000.0           71   1136000.0    159000.0        0.72   \n",
       "1    AZ   55000.0           60   3300000.0   1485000.0        0.64   \n",
       "2    AR   53000.0           65   3445000.0   1688000.0        0.59   \n",
       "3    CA  450000.0           83  37350000.0  12326000.0        0.62   \n",
       "4    CO   27000.0           72   1944000.0   1594000.0        0.70   \n",
       "\n",
       "    prodvalue  year  \n",
       "0    818000.0  1998  \n",
       "1   2112000.0  1998  \n",
       "2   2033000.0  1998  \n",
       "3  23157000.0  1998  \n",
       "4   1361000.0  1998  "
      ]
     },
     "execution_count": 56,
     "metadata": {},
     "output_type": "execute_result"
    }
   ],
   "source": [
    "data.head()"
   ]
  },
  {
   "cell_type": "code",
   "execution_count": 62,
   "id": "b5b48d55",
   "metadata": {},
   "outputs": [],
   "source": [
    "#aggregating all columns as per year and extracting sum from them\n",
    "agg=data[['numcol','yieldpercol','totalprod','stocks','priceperlb','prodvalue','year']].groupby('year').sum()"
   ]
  },
  {
   "cell_type": "code",
   "execution_count": 63,
   "id": "4a64f295",
   "metadata": {},
   "outputs": [
    {
     "data": {
      "text/html": [
       "<div>\n",
       "<style scoped>\n",
       "    .dataframe tbody tr th:only-of-type {\n",
       "        vertical-align: middle;\n",
       "    }\n",
       "\n",
       "    .dataframe tbody tr th {\n",
       "        vertical-align: top;\n",
       "    }\n",
       "\n",
       "    .dataframe thead th {\n",
       "        text-align: right;\n",
       "    }\n",
       "</style>\n",
       "<table border=\"1\" class=\"dataframe\">\n",
       "  <thead>\n",
       "    <tr style=\"text-align: right;\">\n",
       "      <th></th>\n",
       "      <th>numcol</th>\n",
       "      <th>yieldpercol</th>\n",
       "      <th>totalprod</th>\n",
       "      <th>stocks</th>\n",
       "      <th>priceperlb</th>\n",
       "      <th>prodvalue</th>\n",
       "    </tr>\n",
       "    <tr>\n",
       "      <th>year</th>\n",
       "      <th></th>\n",
       "      <th></th>\n",
       "      <th></th>\n",
       "      <th></th>\n",
       "      <th></th>\n",
       "      <th></th>\n",
       "    </tr>\n",
       "  </thead>\n",
       "  <tbody>\n",
       "    <tr>\n",
       "      <th>1998</th>\n",
       "      <td>2621000.0</td>\n",
       "      <td>3008</td>\n",
       "      <td>219519000.0</td>\n",
       "      <td>80565000.0</td>\n",
       "      <td>35.80</td>\n",
       "      <td>146091000.0</td>\n",
       "    </tr>\n",
       "    <tr>\n",
       "      <th>1999</th>\n",
       "      <td>2637000.0</td>\n",
       "      <td>2815</td>\n",
       "      <td>202387000.0</td>\n",
       "      <td>78390000.0</td>\n",
       "      <td>34.58</td>\n",
       "      <td>123657000.0</td>\n",
       "    </tr>\n",
       "    <tr>\n",
       "      <th>2000</th>\n",
       "      <td>2604000.0</td>\n",
       "      <td>2906</td>\n",
       "      <td>219558000.0</td>\n",
       "      <td>84956000.0</td>\n",
       "      <td>34.03</td>\n",
       "      <td>131568000.0</td>\n",
       "    </tr>\n",
       "    <tr>\n",
       "      <th>2001</th>\n",
       "      <td>2542000.0</td>\n",
       "      <td>2840</td>\n",
       "      <td>185748000.0</td>\n",
       "      <td>64764000.0</td>\n",
       "      <td>40.12</td>\n",
       "      <td>132282000.0</td>\n",
       "    </tr>\n",
       "    <tr>\n",
       "      <th>2002</th>\n",
       "      <td>2565000.0</td>\n",
       "      <td>2939</td>\n",
       "      <td>171265000.0</td>\n",
       "      <td>39177000.0</td>\n",
       "      <td>60.34</td>\n",
       "      <td>227302000.0</td>\n",
       "    </tr>\n",
       "  </tbody>\n",
       "</table>\n",
       "</div>"
      ],
      "text/plain": [
       "         numcol  yieldpercol    totalprod      stocks  priceperlb    prodvalue\n",
       "year                                                                          \n",
       "1998  2621000.0         3008  219519000.0  80565000.0       35.80  146091000.0\n",
       "1999  2637000.0         2815  202387000.0  78390000.0       34.58  123657000.0\n",
       "2000  2604000.0         2906  219558000.0  84956000.0       34.03  131568000.0\n",
       "2001  2542000.0         2840  185748000.0  64764000.0       40.12  132282000.0\n",
       "2002  2565000.0         2939  171265000.0  39177000.0       60.34  227302000.0"
      ]
     },
     "execution_count": 63,
     "metadata": {},
     "output_type": "execute_result"
    }
   ],
   "source": [
    "agg.head()"
   ]
  },
  {
   "cell_type": "code",
   "execution_count": 66,
   "id": "315a0a94",
   "metadata": {},
   "outputs": [],
   "source": [
    "agg.reset_index(level=0,inplace=True)    #this is for inserting index column"
   ]
  },
  {
   "cell_type": "code",
   "execution_count": 67,
   "id": "f7cfd4bd",
   "metadata": {},
   "outputs": [
    {
     "data": {
      "text/html": [
       "<div>\n",
       "<style scoped>\n",
       "    .dataframe tbody tr th:only-of-type {\n",
       "        vertical-align: middle;\n",
       "    }\n",
       "\n",
       "    .dataframe tbody tr th {\n",
       "        vertical-align: top;\n",
       "    }\n",
       "\n",
       "    .dataframe thead th {\n",
       "        text-align: right;\n",
       "    }\n",
       "</style>\n",
       "<table border=\"1\" class=\"dataframe\">\n",
       "  <thead>\n",
       "    <tr style=\"text-align: right;\">\n",
       "      <th></th>\n",
       "      <th>year</th>\n",
       "      <th>numcol</th>\n",
       "      <th>yieldpercol</th>\n",
       "      <th>totalprod</th>\n",
       "      <th>stocks</th>\n",
       "      <th>priceperlb</th>\n",
       "      <th>prodvalue</th>\n",
       "    </tr>\n",
       "  </thead>\n",
       "  <tbody>\n",
       "    <tr>\n",
       "      <th>0</th>\n",
       "      <td>1998</td>\n",
       "      <td>2621000.0</td>\n",
       "      <td>3008</td>\n",
       "      <td>219519000.0</td>\n",
       "      <td>80565000.0</td>\n",
       "      <td>35.80</td>\n",
       "      <td>146091000.0</td>\n",
       "    </tr>\n",
       "    <tr>\n",
       "      <th>1</th>\n",
       "      <td>1999</td>\n",
       "      <td>2637000.0</td>\n",
       "      <td>2815</td>\n",
       "      <td>202387000.0</td>\n",
       "      <td>78390000.0</td>\n",
       "      <td>34.58</td>\n",
       "      <td>123657000.0</td>\n",
       "    </tr>\n",
       "    <tr>\n",
       "      <th>2</th>\n",
       "      <td>2000</td>\n",
       "      <td>2604000.0</td>\n",
       "      <td>2906</td>\n",
       "      <td>219558000.0</td>\n",
       "      <td>84956000.0</td>\n",
       "      <td>34.03</td>\n",
       "      <td>131568000.0</td>\n",
       "    </tr>\n",
       "    <tr>\n",
       "      <th>3</th>\n",
       "      <td>2001</td>\n",
       "      <td>2542000.0</td>\n",
       "      <td>2840</td>\n",
       "      <td>185748000.0</td>\n",
       "      <td>64764000.0</td>\n",
       "      <td>40.12</td>\n",
       "      <td>132282000.0</td>\n",
       "    </tr>\n",
       "    <tr>\n",
       "      <th>4</th>\n",
       "      <td>2002</td>\n",
       "      <td>2565000.0</td>\n",
       "      <td>2939</td>\n",
       "      <td>171265000.0</td>\n",
       "      <td>39177000.0</td>\n",
       "      <td>60.34</td>\n",
       "      <td>227302000.0</td>\n",
       "    </tr>\n",
       "    <tr>\n",
       "      <th>5</th>\n",
       "      <td>2003</td>\n",
       "      <td>2591000.0</td>\n",
       "      <td>2752</td>\n",
       "      <td>181372000.0</td>\n",
       "      <td>40619000.0</td>\n",
       "      <td>65.77</td>\n",
       "      <td>252079000.0</td>\n",
       "    </tr>\n",
       "    <tr>\n",
       "      <th>6</th>\n",
       "      <td>2004</td>\n",
       "      <td>2539000.0</td>\n",
       "      <td>2657</td>\n",
       "      <td>182729000.0</td>\n",
       "      <td>60981000.0</td>\n",
       "      <td>52.67</td>\n",
       "      <td>197307000.0</td>\n",
       "    </tr>\n",
       "    <tr>\n",
       "      <th>7</th>\n",
       "      <td>2005</td>\n",
       "      <td>2394000.0</td>\n",
       "      <td>2635</td>\n",
       "      <td>173969000.0</td>\n",
       "      <td>62187000.0</td>\n",
       "      <td>49.00</td>\n",
       "      <td>160793000.0</td>\n",
       "    </tr>\n",
       "    <tr>\n",
       "      <th>8</th>\n",
       "      <td>2006</td>\n",
       "      <td>2378000.0</td>\n",
       "      <td>2536</td>\n",
       "      <td>154238000.0</td>\n",
       "      <td>60235000.0</td>\n",
       "      <td>53.45</td>\n",
       "      <td>157924000.0</td>\n",
       "    </tr>\n",
       "    <tr>\n",
       "      <th>9</th>\n",
       "      <td>2007</td>\n",
       "      <td>2428000.0</td>\n",
       "      <td>2426</td>\n",
       "      <td>147621000.0</td>\n",
       "      <td>52405000.0</td>\n",
       "      <td>58.97</td>\n",
       "      <td>161356000.0</td>\n",
       "    </tr>\n",
       "    <tr>\n",
       "      <th>10</th>\n",
       "      <td>2008</td>\n",
       "      <td>2326000.0</td>\n",
       "      <td>2501</td>\n",
       "      <td>162972000.0</td>\n",
       "      <td>50996000.0</td>\n",
       "      <td>66.65</td>\n",
       "      <td>229992000.0</td>\n",
       "    </tr>\n",
       "    <tr>\n",
       "      <th>11</th>\n",
       "      <td>2009</td>\n",
       "      <td>2472000.0</td>\n",
       "      <td>2154</td>\n",
       "      <td>145068000.0</td>\n",
       "      <td>37322000.0</td>\n",
       "      <td>72.48</td>\n",
       "      <td>213920000.0</td>\n",
       "    </tr>\n",
       "    <tr>\n",
       "      <th>12</th>\n",
       "      <td>2010</td>\n",
       "      <td>2666000.0</td>\n",
       "      <td>2251</td>\n",
       "      <td>175294000.0</td>\n",
       "      <td>44797000.0</td>\n",
       "      <td>77.16</td>\n",
       "      <td>278370000.0</td>\n",
       "    </tr>\n",
       "    <tr>\n",
       "      <th>13</th>\n",
       "      <td>2011</td>\n",
       "      <td>2466000.0</td>\n",
       "      <td>2191</td>\n",
       "      <td>147201000.0</td>\n",
       "      <td>36550000.0</td>\n",
       "      <td>86.69</td>\n",
       "      <td>258688000.0</td>\n",
       "    </tr>\n",
       "    <tr>\n",
       "      <th>14</th>\n",
       "      <td>2012</td>\n",
       "      <td>2509000.0</td>\n",
       "      <td>2207</td>\n",
       "      <td>140907000.0</td>\n",
       "      <td>31662000.0</td>\n",
       "      <td>94.68</td>\n",
       "      <td>280725000.0</td>\n",
       "    </tr>\n",
       "  </tbody>\n",
       "</table>\n",
       "</div>"
      ],
      "text/plain": [
       "    year     numcol  yieldpercol    totalprod      stocks  priceperlb  \\\n",
       "0   1998  2621000.0         3008  219519000.0  80565000.0       35.80   \n",
       "1   1999  2637000.0         2815  202387000.0  78390000.0       34.58   \n",
       "2   2000  2604000.0         2906  219558000.0  84956000.0       34.03   \n",
       "3   2001  2542000.0         2840  185748000.0  64764000.0       40.12   \n",
       "4   2002  2565000.0         2939  171265000.0  39177000.0       60.34   \n",
       "5   2003  2591000.0         2752  181372000.0  40619000.0       65.77   \n",
       "6   2004  2539000.0         2657  182729000.0  60981000.0       52.67   \n",
       "7   2005  2394000.0         2635  173969000.0  62187000.0       49.00   \n",
       "8   2006  2378000.0         2536  154238000.0  60235000.0       53.45   \n",
       "9   2007  2428000.0         2426  147621000.0  52405000.0       58.97   \n",
       "10  2008  2326000.0         2501  162972000.0  50996000.0       66.65   \n",
       "11  2009  2472000.0         2154  145068000.0  37322000.0       72.48   \n",
       "12  2010  2666000.0         2251  175294000.0  44797000.0       77.16   \n",
       "13  2011  2466000.0         2191  147201000.0  36550000.0       86.69   \n",
       "14  2012  2509000.0         2207  140907000.0  31662000.0       94.68   \n",
       "\n",
       "      prodvalue  \n",
       "0   146091000.0  \n",
       "1   123657000.0  \n",
       "2   131568000.0  \n",
       "3   132282000.0  \n",
       "4   227302000.0  \n",
       "5   252079000.0  \n",
       "6   197307000.0  \n",
       "7   160793000.0  \n",
       "8   157924000.0  \n",
       "9   161356000.0  \n",
       "10  229992000.0  \n",
       "11  213920000.0  \n",
       "12  278370000.0  \n",
       "13  258688000.0  \n",
       "14  280725000.0  "
      ]
     },
     "execution_count": 67,
     "metadata": {},
     "output_type": "execute_result"
    }
   ],
   "source": [
    "agg"
   ]
  },
  {
   "cell_type": "code",
   "execution_count": 69,
   "id": "9c5d2a04",
   "metadata": {},
   "outputs": [
    {
     "data": {
      "text/html": [
       "<div>\n",
       "<style scoped>\n",
       "    .dataframe tbody tr th:only-of-type {\n",
       "        vertical-align: middle;\n",
       "    }\n",
       "\n",
       "    .dataframe tbody tr th {\n",
       "        vertical-align: top;\n",
       "    }\n",
       "\n",
       "    .dataframe thead th {\n",
       "        text-align: right;\n",
       "    }\n",
       "</style>\n",
       "<table border=\"1\" class=\"dataframe\">\n",
       "  <thead>\n",
       "    <tr style=\"text-align: right;\">\n",
       "      <th></th>\n",
       "      <th>state</th>\n",
       "      <th>numcol</th>\n",
       "      <th>yieldpercol</th>\n",
       "      <th>totalprod</th>\n",
       "      <th>stocks</th>\n",
       "      <th>priceperlb</th>\n",
       "      <th>prodvalue</th>\n",
       "      <th>year</th>\n",
       "    </tr>\n",
       "  </thead>\n",
       "  <tbody>\n",
       "    <tr>\n",
       "      <th>0</th>\n",
       "      <td>AL</td>\n",
       "      <td>16000.0</td>\n",
       "      <td>71</td>\n",
       "      <td>1136000.0</td>\n",
       "      <td>159000.0</td>\n",
       "      <td>0.72</td>\n",
       "      <td>818000.0</td>\n",
       "      <td>1998</td>\n",
       "    </tr>\n",
       "    <tr>\n",
       "      <th>1</th>\n",
       "      <td>AZ</td>\n",
       "      <td>55000.0</td>\n",
       "      <td>60</td>\n",
       "      <td>3300000.0</td>\n",
       "      <td>1485000.0</td>\n",
       "      <td>0.64</td>\n",
       "      <td>2112000.0</td>\n",
       "      <td>1998</td>\n",
       "    </tr>\n",
       "    <tr>\n",
       "      <th>2</th>\n",
       "      <td>AR</td>\n",
       "      <td>53000.0</td>\n",
       "      <td>65</td>\n",
       "      <td>3445000.0</td>\n",
       "      <td>1688000.0</td>\n",
       "      <td>0.59</td>\n",
       "      <td>2033000.0</td>\n",
       "      <td>1998</td>\n",
       "    </tr>\n",
       "    <tr>\n",
       "      <th>3</th>\n",
       "      <td>CA</td>\n",
       "      <td>450000.0</td>\n",
       "      <td>83</td>\n",
       "      <td>37350000.0</td>\n",
       "      <td>12326000.0</td>\n",
       "      <td>0.62</td>\n",
       "      <td>23157000.0</td>\n",
       "      <td>1998</td>\n",
       "    </tr>\n",
       "    <tr>\n",
       "      <th>4</th>\n",
       "      <td>CO</td>\n",
       "      <td>27000.0</td>\n",
       "      <td>72</td>\n",
       "      <td>1944000.0</td>\n",
       "      <td>1594000.0</td>\n",
       "      <td>0.70</td>\n",
       "      <td>1361000.0</td>\n",
       "      <td>1998</td>\n",
       "    </tr>\n",
       "    <tr>\n",
       "      <th>...</th>\n",
       "      <td>...</td>\n",
       "      <td>...</td>\n",
       "      <td>...</td>\n",
       "      <td>...</td>\n",
       "      <td>...</td>\n",
       "      <td>...</td>\n",
       "      <td>...</td>\n",
       "      <td>...</td>\n",
       "    </tr>\n",
       "    <tr>\n",
       "      <th>95</th>\n",
       "      <td>IL</td>\n",
       "      <td>8000.0</td>\n",
       "      <td>61</td>\n",
       "      <td>488000.0</td>\n",
       "      <td>146000.0</td>\n",
       "      <td>1.17</td>\n",
       "      <td>571000.0</td>\n",
       "      <td>2000</td>\n",
       "    </tr>\n",
       "    <tr>\n",
       "      <th>96</th>\n",
       "      <td>IN</td>\n",
       "      <td>8000.0</td>\n",
       "      <td>65</td>\n",
       "      <td>520000.0</td>\n",
       "      <td>286000.0</td>\n",
       "      <td>1.03</td>\n",
       "      <td>536000.0</td>\n",
       "      <td>2000</td>\n",
       "    </tr>\n",
       "    <tr>\n",
       "      <th>97</th>\n",
       "      <td>IA</td>\n",
       "      <td>30000.0</td>\n",
       "      <td>67</td>\n",
       "      <td>2010000.0</td>\n",
       "      <td>1206000.0</td>\n",
       "      <td>0.68</td>\n",
       "      <td>1367000.0</td>\n",
       "      <td>2000</td>\n",
       "    </tr>\n",
       "    <tr>\n",
       "      <th>98</th>\n",
       "      <td>KS</td>\n",
       "      <td>15000.0</td>\n",
       "      <td>68</td>\n",
       "      <td>1020000.0</td>\n",
       "      <td>520000.0</td>\n",
       "      <td>0.91</td>\n",
       "      <td>928000.0</td>\n",
       "      <td>2000</td>\n",
       "    </tr>\n",
       "    <tr>\n",
       "      <th>99</th>\n",
       "      <td>KY</td>\n",
       "      <td>4000.0</td>\n",
       "      <td>48</td>\n",
       "      <td>192000.0</td>\n",
       "      <td>54000.0</td>\n",
       "      <td>1.35</td>\n",
       "      <td>259000.0</td>\n",
       "      <td>2000</td>\n",
       "    </tr>\n",
       "  </tbody>\n",
       "</table>\n",
       "<p>100 rows × 8 columns</p>\n",
       "</div>"
      ],
      "text/plain": [
       "   state    numcol  yieldpercol   totalprod      stocks  priceperlb  \\\n",
       "0     AL   16000.0           71   1136000.0    159000.0        0.72   \n",
       "1     AZ   55000.0           60   3300000.0   1485000.0        0.64   \n",
       "2     AR   53000.0           65   3445000.0   1688000.0        0.59   \n",
       "3     CA  450000.0           83  37350000.0  12326000.0        0.62   \n",
       "4     CO   27000.0           72   1944000.0   1594000.0        0.70   \n",
       "..   ...       ...          ...         ...         ...         ...   \n",
       "95    IL    8000.0           61    488000.0    146000.0        1.17   \n",
       "96    IN    8000.0           65    520000.0    286000.0        1.03   \n",
       "97    IA   30000.0           67   2010000.0   1206000.0        0.68   \n",
       "98    KS   15000.0           68   1020000.0    520000.0        0.91   \n",
       "99    KY    4000.0           48    192000.0     54000.0        1.35   \n",
       "\n",
       "     prodvalue  year  \n",
       "0     818000.0  1998  \n",
       "1    2112000.0  1998  \n",
       "2    2033000.0  1998  \n",
       "3   23157000.0  1998  \n",
       "4    1361000.0  1998  \n",
       "..         ...   ...  \n",
       "95    571000.0  2000  \n",
       "96    536000.0  2000  \n",
       "97   1367000.0  2000  \n",
       "98    928000.0  2000  \n",
       "99    259000.0  2000  \n",
       "\n",
       "[100 rows x 8 columns]"
      ]
     },
     "execution_count": 69,
     "metadata": {},
     "output_type": "execute_result"
    }
   ],
   "source": [
    "data.head(100)"
   ]
  },
  {
   "cell_type": "code",
   "execution_count": 76,
   "id": "e4e4ed69",
   "metadata": {},
   "outputs": [],
   "source": [
    "state_wise=data[['state','yieldpercol','totalprod']].groupby('state').sum()"
   ]
  },
  {
   "cell_type": "code",
   "execution_count": 77,
   "id": "8b49060f",
   "metadata": {},
   "outputs": [
    {
     "data": {
      "text/plain": [
       "(44, 2)"
      ]
     },
     "execution_count": 77,
     "metadata": {},
     "output_type": "execute_result"
    }
   ],
   "source": [
    "state_wise.shape"
   ]
  },
  {
   "cell_type": "code",
   "execution_count": 88,
   "id": "ae1ce25e",
   "metadata": {},
   "outputs": [
    {
     "data": {
      "text/html": [
       "<div>\n",
       "<style scoped>\n",
       "    .dataframe tbody tr th:only-of-type {\n",
       "        vertical-align: middle;\n",
       "    }\n",
       "\n",
       "    .dataframe tbody tr th {\n",
       "        vertical-align: top;\n",
       "    }\n",
       "\n",
       "    .dataframe thead th {\n",
       "        text-align: right;\n",
       "    }\n",
       "</style>\n",
       "<table border=\"1\" class=\"dataframe\">\n",
       "  <thead>\n",
       "    <tr style=\"text-align: right;\">\n",
       "      <th></th>\n",
       "      <th>level_0</th>\n",
       "      <th>index</th>\n",
       "      <th>state</th>\n",
       "      <th>yieldpercol</th>\n",
       "      <th>totalprod</th>\n",
       "    </tr>\n",
       "  </thead>\n",
       "  <tbody>\n",
       "    <tr>\n",
       "      <th>0</th>\n",
       "      <td>0</td>\n",
       "      <td>0</td>\n",
       "      <td>AL</td>\n",
       "      <td>1013</td>\n",
       "      <td>12382000.0</td>\n",
       "    </tr>\n",
       "    <tr>\n",
       "      <th>1</th>\n",
       "      <td>1</td>\n",
       "      <td>1</td>\n",
       "      <td>AR</td>\n",
       "      <td>1109</td>\n",
       "      <td>42156000.0</td>\n",
       "    </tr>\n",
       "    <tr>\n",
       "      <th>2</th>\n",
       "      <td>2</td>\n",
       "      <td>2</td>\n",
       "      <td>AZ</td>\n",
       "      <td>901</td>\n",
       "      <td>30484000.0</td>\n",
       "    </tr>\n",
       "    <tr>\n",
       "      <th>3</th>\n",
       "      <td>3</td>\n",
       "      <td>3</td>\n",
       "      <td>CA</td>\n",
       "      <td>837</td>\n",
       "      <td>347535000.0</td>\n",
       "    </tr>\n",
       "    <tr>\n",
       "      <th>4</th>\n",
       "      <td>4</td>\n",
       "      <td>4</td>\n",
       "      <td>CO</td>\n",
       "      <td>942</td>\n",
       "      <td>26259000.0</td>\n",
       "    </tr>\n",
       "  </tbody>\n",
       "</table>\n",
       "</div>"
      ],
      "text/plain": [
       "   level_0  index state  yieldpercol    totalprod\n",
       "0        0      0    AL         1013   12382000.0\n",
       "1        1      1    AR         1109   42156000.0\n",
       "2        2      2    AZ          901   30484000.0\n",
       "3        3      3    CA          837  347535000.0\n",
       "4        4      4    CO          942   26259000.0"
      ]
     },
     "execution_count": 88,
     "metadata": {},
     "output_type": "execute_result"
    }
   ],
   "source": [
    "state_wise.sort_values(by='totalprod',ascending=False)\n",
    "state_wise.reset_index(level=0,inplace=True)\n",
    "state_wise.head()"
   ]
  },
  {
   "cell_type": "code",
   "execution_count": 96,
   "id": "f9062580",
   "metadata": {},
   "outputs": [
    {
     "data": {
      "text/html": [
       "<div>\n",
       "<style scoped>\n",
       "    .dataframe tbody tr th:only-of-type {\n",
       "        vertical-align: middle;\n",
       "    }\n",
       "\n",
       "    .dataframe tbody tr th {\n",
       "        vertical-align: top;\n",
       "    }\n",
       "\n",
       "    .dataframe thead th {\n",
       "        text-align: right;\n",
       "    }\n",
       "</style>\n",
       "<table border=\"1\" class=\"dataframe\">\n",
       "  <thead>\n",
       "    <tr style=\"text-align: right;\">\n",
       "      <th></th>\n",
       "      <th>state</th>\n",
       "      <th>yieldpercol</th>\n",
       "      <th>totalprod</th>\n",
       "    </tr>\n",
       "  </thead>\n",
       "  <tbody>\n",
       "    <tr>\n",
       "      <th>23</th>\n",
       "      <td>ND</td>\n",
       "      <td>1321</td>\n",
       "      <td>475085000.0</td>\n",
       "    </tr>\n",
       "    <tr>\n",
       "      <th>3</th>\n",
       "      <td>CA</td>\n",
       "      <td>837</td>\n",
       "      <td>347535000.0</td>\n",
       "    </tr>\n",
       "    <tr>\n",
       "      <th>34</th>\n",
       "      <td>SD</td>\n",
       "      <td>1137</td>\n",
       "      <td>266141000.0</td>\n",
       "    </tr>\n",
       "    <tr>\n",
       "      <th>5</th>\n",
       "      <td>FL</td>\n",
       "      <td>1246</td>\n",
       "      <td>247048000.0</td>\n",
       "    </tr>\n",
       "    <tr>\n",
       "      <th>21</th>\n",
       "      <td>MT</td>\n",
       "      <td>1160</td>\n",
       "      <td>156562000.0</td>\n",
       "    </tr>\n",
       "  </tbody>\n",
       "</table>\n",
       "</div>"
      ],
      "text/plain": [
       "   state  yieldpercol    totalprod\n",
       "23    ND         1321  475085000.0\n",
       "3     CA          837  347535000.0\n",
       "34    SD         1137  266141000.0\n",
       "5     FL         1246  247048000.0\n",
       "21    MT         1160  156562000.0"
      ]
     },
     "execution_count": 96,
     "metadata": {},
     "output_type": "execute_result"
    }
   ],
   "source": [
    "#del state_wise['level_0']\n",
    "#del state_wise['index']\n",
    "state_wise.sort_values(by='totalprod',ascending=False,inplace=True)     # what is inplace?\n",
    "state_wise.head()"
   ]
  },
  {
   "cell_type": "code",
   "execution_count": 86,
   "id": "26ea776d",
   "metadata": {},
   "outputs": [],
   "source": [
    "import numpy as np\n",
    "import matplotlib.pyplot as plt\n",
    "import seaborn as sns"
   ]
  },
  {
   "cell_type": "code",
   "execution_count": 97,
   "id": "c3ad97a0",
   "metadata": {},
   "outputs": [
    {
     "name": "stderr",
     "output_type": "stream",
     "text": [
      "C:\\Users\\Prasad\\anaconda3\\lib\\site-packages\\seaborn\\_decorators.py:36: FutureWarning: Pass the following variables as keyword args: x, y. From version 0.12, the only valid positional argument will be `data`, and passing other arguments without an explicit keyword will result in an error or misinterpretation.\n",
      "  warnings.warn(\n"
     ]
    },
    {
     "data": {
      "text/plain": [
       "<AxesSubplot:xlabel='state', ylabel='totalprod'>"
      ]
     },
     "execution_count": 97,
     "metadata": {},
     "output_type": "execute_result"
    },
    {
     "data": {
      "image/png": "[encoded data removed]",
      "text/plain": [
       "<Figure size 1440x504 with 1 Axes>"
      ]
     },
     "metadata": {
      "needs_background": "light"
     },
     "output_type": "display_data"
    }
   ],
   "source": [
    "plt.figure(figsize=(20,7))\n",
    "sns.barplot(state_wise['state'],state_wise['totalprod'])"
   ]
  },
  {
   "cell_type": "code",
   "execution_count": 99,
   "id": "278cf12d",
   "metadata": {},
   "outputs": [
    {
     "data": {
      "text/plain": [
       "(44, 3)"
      ]
     },
     "execution_count": 99,
     "metadata": {},
     "output_type": "execute_result"
    }
   ],
   "source": [
    "state_wise.shape"
   ]
  },
  {
   "cell_type": "code",
   "execution_count": 123,
   "id": "1e1e022b",
   "metadata": {},
   "outputs": [],
   "source": [
    "#creating table to find Maximum production value for state\n",
    "max_state=data[['state','totalprod']].groupby('state').max()\n",
    "max_state.reset_index(level=0,inplace=True)\n"
   ]
  },
  {
   "cell_type": "code",
   "execution_count": 119,
   "id": "9f3cdf56",
   "metadata": {},
   "outputs": [],
   "source": [
    "max_state.sort_values(by='totalprod',ascending=False,inplace=True)"
   ]
  },
  {
   "cell_type": "code",
   "execution_count": 166,
   "id": "ddb5222c",
   "metadata": {},
   "outputs": [
    {
     "data": {
      "text/html": [
       "<div>\n",
       "<style scoped>\n",
       "    .dataframe tbody tr th:only-of-type {\n",
       "        vertical-align: middle;\n",
       "    }\n",
       "\n",
       "    .dataframe tbody tr th {\n",
       "        vertical-align: top;\n",
       "    }\n",
       "\n",
       "    .dataframe thead th {\n",
       "        text-align: right;\n",
       "    }\n",
       "</style>\n",
       "<table border=\"1\" class=\"dataframe\">\n",
       "  <thead>\n",
       "    <tr style=\"text-align: right;\">\n",
       "      <th></th>\n",
       "      <th>State</th>\n",
       "      <th>Max Production</th>\n",
       "    </tr>\n",
       "  </thead>\n",
       "  <tbody>\n",
       "    <tr>\n",
       "      <th>0</th>\n",
       "      <td>AL</td>\n",
       "      <td>1248000.0</td>\n",
       "    </tr>\n",
       "    <tr>\n",
       "      <th>1</th>\n",
       "      <td>AR</td>\n",
       "      <td>4900000.0</td>\n",
       "    </tr>\n",
       "    <tr>\n",
       "      <th>2</th>\n",
       "      <td>AZ</td>\n",
       "      <td>3300000.0</td>\n",
       "    </tr>\n",
       "    <tr>\n",
       "      <th>3</th>\n",
       "      <td>CA</td>\n",
       "      <td>37350000.0</td>\n",
       "    </tr>\n",
       "    <tr>\n",
       "      <th>4</th>\n",
       "      <td>CO</td>\n",
       "      <td>2700000.0</td>\n",
       "    </tr>\n",
       "  </tbody>\n",
       "</table>\n",
       "</div>"
      ],
      "text/plain": [
       "  State  Max Production\n",
       "0    AL       1248000.0\n",
       "1    AR       4900000.0\n",
       "2    AZ       3300000.0\n",
       "3    CA      37350000.0\n",
       "4    CO       2700000.0"
      ]
     },
     "execution_count": 166,
     "metadata": {},
     "output_type": "execute_result"
    }
   ],
   "source": [
    "max_state.head()"
   ]
  },
  {
   "cell_type": "code",
   "execution_count": 129,
   "id": "3da38879",
   "metadata": {},
   "outputs": [],
   "source": [
    "max_state.columns=['State','Max Production']"
   ]
  },
  {
   "cell_type": "code",
   "execution_count": 130,
   "id": "e96e1411",
   "metadata": {},
   "outputs": [
    {
     "data": {
      "text/html": [
       "<div>\n",
       "<style scoped>\n",
       "    .dataframe tbody tr th:only-of-type {\n",
       "        vertical-align: middle;\n",
       "    }\n",
       "\n",
       "    .dataframe tbody tr th {\n",
       "        vertical-align: top;\n",
       "    }\n",
       "\n",
       "    .dataframe thead th {\n",
       "        text-align: right;\n",
       "    }\n",
       "</style>\n",
       "<table border=\"1\" class=\"dataframe\">\n",
       "  <thead>\n",
       "    <tr style=\"text-align: right;\">\n",
       "      <th></th>\n",
       "      <th>State</th>\n",
       "      <th>Max Production</th>\n",
       "    </tr>\n",
       "  </thead>\n",
       "  <tbody>\n",
       "    <tr>\n",
       "      <th>0</th>\n",
       "      <td>AL</td>\n",
       "      <td>1248000.0</td>\n",
       "    </tr>\n",
       "    <tr>\n",
       "      <th>1</th>\n",
       "      <td>AR</td>\n",
       "      <td>4900000.0</td>\n",
       "    </tr>\n",
       "    <tr>\n",
       "      <th>2</th>\n",
       "      <td>AZ</td>\n",
       "      <td>3300000.0</td>\n",
       "    </tr>\n",
       "    <tr>\n",
       "      <th>3</th>\n",
       "      <td>CA</td>\n",
       "      <td>37350000.0</td>\n",
       "    </tr>\n",
       "    <tr>\n",
       "      <th>4</th>\n",
       "      <td>CO</td>\n",
       "      <td>2700000.0</td>\n",
       "    </tr>\n",
       "  </tbody>\n",
       "</table>\n",
       "</div>"
      ],
      "text/plain": [
       "  State  Max Production\n",
       "0    AL       1248000.0\n",
       "1    AR       4900000.0\n",
       "2    AZ       3300000.0\n",
       "3    CA      37350000.0\n",
       "4    CO       2700000.0"
      ]
     },
     "execution_count": 130,
     "metadata": {},
     "output_type": "execute_result"
    }
   ],
   "source": [
    "max_state.head()"
   ]
  },
  {
   "cell_type": "code",
   "execution_count": 131,
   "id": "19243626",
   "metadata": {},
   "outputs": [],
   "source": [
    "#creating table to find minimum production value for state\n",
    "min_state=data[['state','totalprod']].groupby('state').min()"
   ]
  },
  {
   "cell_type": "code",
   "execution_count": 135,
   "id": "466222b6",
   "metadata": {},
   "outputs": [],
   "source": [
    "min_state.sort_values(by='totalprod',ascending=True)\n",
    "min_state.reset_index(level=0,inplace=True)"
   ]
  },
  {
   "cell_type": "code",
   "execution_count": 136,
   "id": "81e59b2a",
   "metadata": {},
   "outputs": [],
   "source": [
    "min_state.columns=['State','Min Production']"
   ]
  },
  {
   "cell_type": "code",
   "execution_count": 137,
   "id": "f197423a",
   "metadata": {},
   "outputs": [
    {
     "data": {
      "text/html": [
       "<div>\n",
       "<style scoped>\n",
       "    .dataframe tbody tr th:only-of-type {\n",
       "        vertical-align: middle;\n",
       "    }\n",
       "\n",
       "    .dataframe tbody tr th {\n",
       "        vertical-align: top;\n",
       "    }\n",
       "\n",
       "    .dataframe thead th {\n",
       "        text-align: right;\n",
       "    }\n",
       "</style>\n",
       "<table border=\"1\" class=\"dataframe\">\n",
       "  <thead>\n",
       "    <tr style=\"text-align: right;\">\n",
       "      <th></th>\n",
       "      <th>State</th>\n",
       "      <th>Min Production</th>\n",
       "    </tr>\n",
       "  </thead>\n",
       "  <tbody>\n",
       "    <tr>\n",
       "      <th>0</th>\n",
       "      <td>AL</td>\n",
       "      <td>432000.0</td>\n",
       "    </tr>\n",
       "    <tr>\n",
       "      <th>1</th>\n",
       "      <td>AR</td>\n",
       "      <td>1368000.0</td>\n",
       "    </tr>\n",
       "    <tr>\n",
       "      <th>2</th>\n",
       "      <td>AZ</td>\n",
       "      <td>1012000.0</td>\n",
       "    </tr>\n",
       "    <tr>\n",
       "      <th>3</th>\n",
       "      <td>CA</td>\n",
       "      <td>11550000.0</td>\n",
       "    </tr>\n",
       "    <tr>\n",
       "      <th>4</th>\n",
       "      <td>CO</td>\n",
       "      <td>1200000.0</td>\n",
       "    </tr>\n",
       "  </tbody>\n",
       "</table>\n",
       "</div>"
      ],
      "text/plain": [
       "  State  Min Production\n",
       "0    AL        432000.0\n",
       "1    AR       1368000.0\n",
       "2    AZ       1012000.0\n",
       "3    CA      11550000.0\n",
       "4    CO       1200000.0"
      ]
     },
     "execution_count": 137,
     "metadata": {},
     "output_type": "execute_result"
    }
   ],
   "source": [
    "min_state.head()"
   ]
  },
  {
   "cell_type": "code",
   "execution_count": 138,
   "id": "3d87693d",
   "metadata": {},
   "outputs": [],
   "source": [
    "#Merging two tables to extract range of min production and max production\n",
    "min_max=pd.merge(max_state,min_state,how='inner',on='State')"
   ]
  },
  {
   "cell_type": "code",
   "execution_count": 139,
   "id": "c75803ab",
   "metadata": {},
   "outputs": [
    {
     "data": {
      "text/html": [
       "<div>\n",
       "<style scoped>\n",
       "    .dataframe tbody tr th:only-of-type {\n",
       "        vertical-align: middle;\n",
       "    }\n",
       "\n",
       "    .dataframe tbody tr th {\n",
       "        vertical-align: top;\n",
       "    }\n",
       "\n",
       "    .dataframe thead th {\n",
       "        text-align: right;\n",
       "    }\n",
       "</style>\n",
       "<table border=\"1\" class=\"dataframe\">\n",
       "  <thead>\n",
       "    <tr style=\"text-align: right;\">\n",
       "      <th></th>\n",
       "      <th>State</th>\n",
       "      <th>Max Production</th>\n",
       "      <th>Min Production</th>\n",
       "    </tr>\n",
       "  </thead>\n",
       "  <tbody>\n",
       "    <tr>\n",
       "      <th>0</th>\n",
       "      <td>AL</td>\n",
       "      <td>1248000.0</td>\n",
       "      <td>432000.0</td>\n",
       "    </tr>\n",
       "    <tr>\n",
       "      <th>1</th>\n",
       "      <td>AR</td>\n",
       "      <td>4900000.0</td>\n",
       "      <td>1368000.0</td>\n",
       "    </tr>\n",
       "    <tr>\n",
       "      <th>2</th>\n",
       "      <td>AZ</td>\n",
       "      <td>3300000.0</td>\n",
       "      <td>1012000.0</td>\n",
       "    </tr>\n",
       "    <tr>\n",
       "      <th>3</th>\n",
       "      <td>CA</td>\n",
       "      <td>37350000.0</td>\n",
       "      <td>11550000.0</td>\n",
       "    </tr>\n",
       "    <tr>\n",
       "      <th>4</th>\n",
       "      <td>CO</td>\n",
       "      <td>2700000.0</td>\n",
       "      <td>1200000.0</td>\n",
       "    </tr>\n",
       "  </tbody>\n",
       "</table>\n",
       "</div>"
      ],
      "text/plain": [
       "  State  Max Production  Min Production\n",
       "0    AL       1248000.0        432000.0\n",
       "1    AR       4900000.0       1368000.0\n",
       "2    AZ       3300000.0       1012000.0\n",
       "3    CA      37350000.0      11550000.0\n",
       "4    CO       2700000.0       1200000.0"
      ]
     },
     "execution_count": 139,
     "metadata": {},
     "output_type": "execute_result"
    }
   ],
   "source": [
    "min_max.head()"
   ]
  },
  {
   "cell_type": "code",
   "execution_count": 158,
   "id": "6deb6e55",
   "metadata": {},
   "outputs": [],
   "source": [
    "min_max['% change']=((min_max['Max Production'] - min_max['Min Production'])/min_max['Max Production'])*100\n",
    "min_max.sort_values(by='% change',ascending=True,inplace=True)"
   ]
  },
  {
   "cell_type": "code",
   "execution_count": 159,
   "id": "3b796ee9",
   "metadata": {},
   "outputs": [
    {
     "data": {
      "text/html": [
       "<div>\n",
       "<style scoped>\n",
       "    .dataframe tbody tr th:only-of-type {\n",
       "        vertical-align: middle;\n",
       "    }\n",
       "\n",
       "    .dataframe tbody tr th {\n",
       "        vertical-align: top;\n",
       "    }\n",
       "\n",
       "    .dataframe thead th {\n",
       "        text-align: right;\n",
       "    }\n",
       "</style>\n",
       "<table border=\"1\" class=\"dataframe\">\n",
       "  <thead>\n",
       "    <tr style=\"text-align: right;\">\n",
       "      <th></th>\n",
       "      <th>State</th>\n",
       "      <th>Max Production</th>\n",
       "      <th>Min Production</th>\n",
       "      <th>% change</th>\n",
       "    </tr>\n",
       "  </thead>\n",
       "  <tbody>\n",
       "    <tr>\n",
       "      <th>31</th>\n",
       "      <td>OR</td>\n",
       "      <td>2565000.0</td>\n",
       "      <td>1638000.0</td>\n",
       "      <td>36.140351</td>\n",
       "    </tr>\n",
       "    <tr>\n",
       "      <th>33</th>\n",
       "      <td>SC</td>\n",
       "      <td>470000.0</td>\n",
       "      <td>280000.0</td>\n",
       "      <td>40.425532</td>\n",
       "    </tr>\n",
       "    <tr>\n",
       "      <th>17</th>\n",
       "      <td>MI</td>\n",
       "      <td>6800000.0</td>\n",
       "      <td>3960000.0</td>\n",
       "      <td>41.764706</td>\n",
       "    </tr>\n",
       "    <tr>\n",
       "      <th>40</th>\n",
       "      <td>WA</td>\n",
       "      <td>3528000.0</td>\n",
       "      <td>2024000.0</td>\n",
       "      <td>42.630385</td>\n",
       "    </tr>\n",
       "    <tr>\n",
       "      <th>7</th>\n",
       "      <td>HI</td>\n",
       "      <td>1179000.0</td>\n",
       "      <td>640000.0</td>\n",
       "      <td>45.716709</td>\n",
       "    </tr>\n",
       "  </tbody>\n",
       "</table>\n",
       "</div>"
      ],
      "text/plain": [
       "   State  Max Production  Min Production   % change\n",
       "31    OR       2565000.0       1638000.0  36.140351\n",
       "33    SC        470000.0        280000.0  40.425532\n",
       "17    MI       6800000.0       3960000.0  41.764706\n",
       "40    WA       3528000.0       2024000.0  42.630385\n",
       "7     HI       1179000.0        640000.0  45.716709"
      ]
     },
     "execution_count": 159,
     "metadata": {},
     "output_type": "execute_result"
    }
   ],
   "source": [
    "min_max.head()"
   ]
  },
  {
   "cell_type": "code",
   "execution_count": 145,
   "id": "8714c9d6",
   "metadata": {},
   "outputs": [],
   "source": [
    "del min_max['Per_change']"
   ]
  },
  {
   "cell_type": "code",
   "execution_count": 160,
   "id": "d3dadccc",
   "metadata": {},
   "outputs": [
    {
     "data": {
      "text/html": [
       "<div>\n",
       "<style scoped>\n",
       "    .dataframe tbody tr th:only-of-type {\n",
       "        vertical-align: middle;\n",
       "    }\n",
       "\n",
       "    .dataframe tbody tr th {\n",
       "        vertical-align: top;\n",
       "    }\n",
       "\n",
       "    .dataframe thead th {\n",
       "        text-align: right;\n",
       "    }\n",
       "</style>\n",
       "<table border=\"1\" class=\"dataframe\">\n",
       "  <thead>\n",
       "    <tr style=\"text-align: right;\">\n",
       "      <th></th>\n",
       "      <th>State</th>\n",
       "      <th>Max Production</th>\n",
       "      <th>Min Production</th>\n",
       "      <th>% change</th>\n",
       "    </tr>\n",
       "  </thead>\n",
       "  <tbody>\n",
       "    <tr>\n",
       "      <th>31</th>\n",
       "      <td>OR</td>\n",
       "      <td>2565000.0</td>\n",
       "      <td>1638000.0</td>\n",
       "      <td>36.140351</td>\n",
       "    </tr>\n",
       "    <tr>\n",
       "      <th>33</th>\n",
       "      <td>SC</td>\n",
       "      <td>470000.0</td>\n",
       "      <td>280000.0</td>\n",
       "      <td>40.425532</td>\n",
       "    </tr>\n",
       "    <tr>\n",
       "      <th>17</th>\n",
       "      <td>MI</td>\n",
       "      <td>6800000.0</td>\n",
       "      <td>3960000.0</td>\n",
       "      <td>41.764706</td>\n",
       "    </tr>\n",
       "    <tr>\n",
       "      <th>40</th>\n",
       "      <td>WA</td>\n",
       "      <td>3528000.0</td>\n",
       "      <td>2024000.0</td>\n",
       "      <td>42.630385</td>\n",
       "    </tr>\n",
       "    <tr>\n",
       "      <th>7</th>\n",
       "      <td>HI</td>\n",
       "      <td>1179000.0</td>\n",
       "      <td>640000.0</td>\n",
       "      <td>45.716709</td>\n",
       "    </tr>\n",
       "  </tbody>\n",
       "</table>\n",
       "</div>"
      ],
      "text/plain": [
       "   State  Max Production  Min Production   % change\n",
       "31    OR       2565000.0       1638000.0  36.140351\n",
       "33    SC        470000.0        280000.0  40.425532\n",
       "17    MI       6800000.0       3960000.0  41.764706\n",
       "40    WA       3528000.0       2024000.0  42.630385\n",
       "7     HI       1179000.0        640000.0  45.716709"
      ]
     },
     "execution_count": 160,
     "metadata": {},
     "output_type": "execute_result"
    }
   ],
   "source": [
    "min_max.head()"
   ]
  },
  {
   "cell_type": "code",
   "execution_count": 161,
   "id": "c0e79cb6",
   "metadata": {},
   "outputs": [
    {
     "data": {
      "text/plain": [
       "Text(0.5, 1.0, 'Production Trendline as per state')"
      ]
     },
     "execution_count": 161,
     "metadata": {},
     "output_type": "execute_result"
    },
    {
     "data": {
      "image/png": "[encoded data removed]",
      "text/plain": [
       "<Figure size 2160x720 with 1 Axes>"
      ]
     },
     "metadata": {
      "needs_background": "light"
     },
     "output_type": "display_data"
    }
   ],
   "source": [
    "plt.figure(figsize=(30,10))\n",
    "sns.barplot(x='State',y='% change',data=min_max)\n",
    "plt.title('Production Trendline as per state')"
   ]
  },
  {
   "cell_type": "code",
   "execution_count": 162,
   "id": "23a06e77",
   "metadata": {},
   "outputs": [],
   "source": [
    "from sklearn.linear_model import LinearRegression\n",
    "from sklearn.model_selection import train_test_split"
   ]
  },
  {
   "cell_type": "code",
   "execution_count": 163,
   "id": "23c25f47",
   "metadata": {},
   "outputs": [],
   "source": [
    "X_train,X_test,Y_train,Y_test = train_test_split(data.drop(['totalprod','state'],axis=1),data['totalprod'],\n",
    "                                                    test_size=0.20,random_state=8)\n"
   ]
  },
  {
   "cell_type": "code",
   "execution_count": 164,
   "id": "e3d25f03",
   "metadata": {},
   "outputs": [
    {
     "data": {
      "text/plain": [
       "LinearRegression()"
      ]
     },
     "execution_count": 164,
     "metadata": {},
     "output_type": "execute_result"
    }
   ],
   "source": [
    "model=LinearRegression()\n",
    "model.fit(X_train,Y_train)"
   ]
  },
  {
   "cell_type": "code",
   "execution_count": 165,
   "id": "47653cd9",
   "metadata": {},
   "outputs": [
    {
     "data": {
      "text/plain": [
       "95.25114307234165"
      ]
     },
     "execution_count": 165,
     "metadata": {},
     "output_type": "execute_result"
    }
   ],
   "source": [
    "accuracy=model.score(X_test,Y_test)\n",
    "accuracy*100"
   ]
  },
  {
   "cell_type": "code",
   "execution_count": null,
   "id": "2038c859",
   "metadata": {},
   "outputs": [],
   "source": []
  }
 ],
 "metadata": {
  "kernelspec": {
   "display_name": "Python 3",
   "language": "python",
   "name": "python3"
  },
  "language_info": {
   "codemirror_mode": {
    "name": "ipython",
    "version": 3
   },
   "file_extension": ".py",
   "mimetype": "text/x-python",
   "name": "python",
   "nbconvert_exporter": "python",
   "pygments_lexer": "ipython3",
   "version": "3.8.8"
  }
 },
 "nbformat": 4,
 "nbformat_minor": 5
}
